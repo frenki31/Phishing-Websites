{
 "cells": [
  {
   "cell_type": "code",
   "execution_count": 1,
   "id": "69ee93dd",
   "metadata": {
    "_cell_guid": "b1076dfc-b9ad-4769-8c92-a6c4dae69d19",
    "_uuid": "8f2839f25d086af736a60e9eeb907d3b93b6e0e5",
    "execution": {
     "iopub.execute_input": "2023-11-19T16:50:44.602061Z",
     "iopub.status.busy": "2023-11-19T16:50:44.601418Z",
     "iopub.status.idle": "2023-11-19T16:50:46.334757Z",
     "shell.execute_reply": "2023-11-19T16:50:46.333274Z"
    },
    "papermill": {
     "duration": 1.746571,
     "end_time": "2023-11-19T16:50:46.337397",
     "exception": false,
     "start_time": "2023-11-19T16:50:44.590826",
     "status": "completed"
    },
    "tags": []
   },
   "outputs": [],
   "source": [
    "import pandas as pd \n",
    "from sklearn.model_selection import train_test_split\n",
    "from sklearn.metrics import accuracy_score"
   ]
  },
  {
   "cell_type": "markdown",
   "id": "b2bb066c",
   "metadata": {
    "papermill": {
     "duration": 0.008024,
     "end_time": "2023-11-19T16:50:46.354259",
     "exception": false,
     "start_time": "2023-11-19T16:50:46.346235",
     "status": "completed"
    },
    "tags": []
   },
   "source": [
    "# 1. Import the dataset"
   ]
  },
  {
   "cell_type": "code",
   "execution_count": 2,
   "id": "d3926322",
   "metadata": {
    "execution": {
     "iopub.execute_input": "2023-11-19T16:50:46.373737Z",
     "iopub.status.busy": "2023-11-19T16:50:46.373015Z",
     "iopub.status.idle": "2023-11-19T16:50:47.428319Z",
     "shell.execute_reply": "2023-11-19T16:50:47.427391Z"
    },
    "papermill": {
     "duration": 1.067605,
     "end_time": "2023-11-19T16:50:47.430384",
     "exception": false,
     "start_time": "2023-11-19T16:50:46.362779",
     "status": "completed"
    },
    "tags": []
   },
   "outputs": [
    {
     "data": {
      "text/html": [
       "<div>\n",
       "<style scoped>\n",
       "    .dataframe tbody tr th:only-of-type {\n",
       "        vertical-align: middle;\n",
       "    }\n",
       "\n",
       "    .dataframe tbody tr th {\n",
       "        vertical-align: top;\n",
       "    }\n",
       "\n",
       "    .dataframe thead th {\n",
       "        text-align: right;\n",
       "    }\n",
       "</style>\n",
       "<table border=\"1\" class=\"dataframe\">\n",
       "  <thead>\n",
       "    <tr style=\"text-align: right;\">\n",
       "      <th></th>\n",
       "      <th>URL</th>\n",
       "      <th>Label</th>\n",
       "    </tr>\n",
       "  </thead>\n",
       "  <tbody>\n",
       "    <tr>\n",
       "      <th>0</th>\n",
       "      <td>tubevector.com/search/?q=erika</td>\n",
       "      <td>good</td>\n",
       "    </tr>\n",
       "    <tr>\n",
       "      <th>1</th>\n",
       "      <td>classmates.com/directory/school/Marian%20Chris...</td>\n",
       "      <td>good</td>\n",
       "    </tr>\n",
       "    <tr>\n",
       "      <th>2</th>\n",
       "      <td>isgsi.com/office/adb/c58c94eccbfb951bd4ba5f2a6...</td>\n",
       "      <td>bad</td>\n",
       "    </tr>\n",
       "    <tr>\n",
       "      <th>3</th>\n",
       "      <td>manufacturersnews.com/executives.asp?start=CEN</td>\n",
       "      <td>good</td>\n",
       "    </tr>\n",
       "    <tr>\n",
       "      <th>4</th>\n",
       "      <td>'9d345009-a-62cb3a1a-s-sites.googlegroups.com/...</td>\n",
       "      <td>bad</td>\n",
       "    </tr>\n",
       "  </tbody>\n",
       "</table>\n",
       "</div>"
      ],
      "text/plain": [
       "                                                 URL Label\n",
       "0                     tubevector.com/search/?q=erika  good\n",
       "1  classmates.com/directory/school/Marian%20Chris...  good\n",
       "2  isgsi.com/office/adb/c58c94eccbfb951bd4ba5f2a6...   bad\n",
       "3     manufacturersnews.com/executives.asp?start=CEN  good\n",
       "4  '9d345009-a-62cb3a1a-s-sites.googlegroups.com/...   bad"
      ]
     },
     "execution_count": 2,
     "metadata": {},
     "output_type": "execute_result"
    }
   ],
   "source": [
    "path = '../input/phishing-site-urls/phishing_site_urls.csv'\n",
    "data = pd.read_csv(path)\n",
    "phishing_data = data.sample(n=10000, random_state =42).copy() #Sample of n websites\n",
    "phishing_data = phishing_data.reset_index(drop=True)\n",
    "phishing_data.head()"
   ]
  },
  {
   "cell_type": "markdown",
   "id": "9e237734",
   "metadata": {
    "papermill": {
     "duration": 0.008445,
     "end_time": "2023-11-19T16:50:47.447691",
     "exception": false,
     "start_time": "2023-11-19T16:50:47.439246",
     "status": "completed"
    },
    "tags": []
   },
   "source": [
    "# 2. Feature extraction"
   ]
  },
  {
   "cell_type": "code",
   "execution_count": 3,
   "id": "427b0c61",
   "metadata": {
    "execution": {
     "iopub.execute_input": "2023-11-19T16:50:47.466345Z",
     "iopub.status.busy": "2023-11-19T16:50:47.465815Z",
     "iopub.status.idle": "2023-11-19T16:51:00.697695Z",
     "shell.execute_reply": "2023-11-19T16:51:00.696125Z"
    },
    "papermill": {
     "duration": 13.243436,
     "end_time": "2023-11-19T16:51:00.699987",
     "exception": false,
     "start_time": "2023-11-19T16:50:47.456551",
     "status": "completed"
    },
    "tags": []
   },
   "outputs": [
    {
     "name": "stdout",
     "output_type": "stream",
     "text": [
      "Collecting tldextract\r\n",
      "  Obtaining dependency information for tldextract from https://files.pythonhosted.org/packages/d0/de/3f37b2568115c7ebeae39508dc1092f04f3dc286f22ef30171baca9c9cf2/tldextract-5.1.1-py3-none-any.whl.metadata\r\n",
      "  Downloading tldextract-5.1.1-py3-none-any.whl.metadata (11 kB)\r\n",
      "Requirement already satisfied: idna in /opt/conda/lib/python3.10/site-packages (from tldextract) (3.4)\r\n",
      "Requirement already satisfied: requests>=2.1.0 in /opt/conda/lib/python3.10/site-packages (from tldextract) (2.31.0)\r\n",
      "Collecting requests-file>=1.4 (from tldextract)\r\n",
      "  Downloading requests_file-1.5.1-py2.py3-none-any.whl (3.7 kB)\r\n",
      "Requirement already satisfied: filelock>=3.0.8 in /opt/conda/lib/python3.10/site-packages (from tldextract) (3.12.2)\r\n",
      "Requirement already satisfied: charset-normalizer<4,>=2 in /opt/conda/lib/python3.10/site-packages (from requests>=2.1.0->tldextract) (3.2.0)\r\n",
      "Requirement already satisfied: urllib3<3,>=1.21.1 in /opt/conda/lib/python3.10/site-packages (from requests>=2.1.0->tldextract) (1.26.15)\r\n",
      "Requirement already satisfied: certifi>=2017.4.17 in /opt/conda/lib/python3.10/site-packages (from requests>=2.1.0->tldextract) (2023.7.22)\r\n",
      "Requirement already satisfied: six in /opt/conda/lib/python3.10/site-packages (from requests-file>=1.4->tldextract) (1.16.0)\r\n",
      "Downloading tldextract-5.1.1-py3-none-any.whl (97 kB)\r\n",
      "\u001b[2K   \u001b[90m━━━━━━━━━━━━━━━━━━━━━━━━━━━━━━━━━━━━━━━━\u001b[0m \u001b[32m97.7/97.7 kB\u001b[0m \u001b[31m3.5 MB/s\u001b[0m eta \u001b[36m0:00:00\u001b[0m\r\n",
      "\u001b[?25hInstalling collected packages: requests-file, tldextract\r\n",
      "Successfully installed requests-file-1.5.1 tldextract-5.1.1\r\n",
      "Note: you may need to restart the kernel to use updated packages.\n"
     ]
    }
   ],
   "source": [
    "pip install tldextract"
   ]
  },
  {
   "cell_type": "code",
   "execution_count": 4,
   "id": "59febbb4",
   "metadata": {
    "execution": {
     "iopub.execute_input": "2023-11-19T16:51:00.721119Z",
     "iopub.status.busy": "2023-11-19T16:51:00.720796Z",
     "iopub.status.idle": "2023-11-19T16:51:00.883871Z",
     "shell.execute_reply": "2023-11-19T16:51:00.883012Z"
    },
    "papermill": {
     "duration": 0.176535,
     "end_time": "2023-11-19T16:51:00.886487",
     "exception": false,
     "start_time": "2023-11-19T16:51:00.709952",
     "status": "completed"
    },
    "tags": []
   },
   "outputs": [],
   "source": [
    "import tldextract\n",
    "from urllib.parse import urlparse\n",
    "\n",
    "def extract_features(url):\n",
    "    parsed_url = urlparse(url)\n",
    "    # Extract domain features using tldextract\n",
    "    domain_extract = tldextract.extract(url)\n",
    "    domain = domain_extract.domain\n",
    "    suffix = domain_extract.suffix\n",
    "\n",
    "    # Features to extract\n",
    "    features = {\n",
    "        'url_length': len(url), #Length of URL\n",
    "        'domain_length': len(domain), #Length of domain\n",
    "        'dot_count': domain.count('.'), #Number of dots in the domain\n",
    "        'is_ip_address': domain.replace('.', '').isdigit(), #IP address in the domain\n",
    "        'special_chars_in_domain': any(char.isnumeric() or not char.isalnum() for char in domain), #Presence of special characters in the domain\n",
    "        'tld_length': len(suffix), #Length of the top-level domain (e.g., '.com', '.org')\n",
    "        'hyphen_in_domain': '-' in domain, #Presence of hyphen in the domain\n",
    "        'at_symbol': '@' in parsed_url.netloc #Presence of '@' in the URL\n",
    "    }\n",
    "\n",
    "    return features"
   ]
  },
  {
   "cell_type": "code",
   "execution_count": 5,
   "id": "cf6d2bd9",
   "metadata": {
    "execution": {
     "iopub.execute_input": "2023-11-19T16:51:00.907256Z",
     "iopub.status.busy": "2023-11-19T16:51:00.906948Z",
     "iopub.status.idle": "2023-11-19T16:51:01.347017Z",
     "shell.execute_reply": "2023-11-19T16:51:01.346085Z"
    },
    "papermill": {
     "duration": 0.452837,
     "end_time": "2023-11-19T16:51:01.349555",
     "exception": false,
     "start_time": "2023-11-19T16:51:00.896718",
     "status": "completed"
    },
    "tags": []
   },
   "outputs": [],
   "source": [
    "y_labels = phishing_data[\"Label\"] \n",
    "phishing_data['Features'] = phishing_data[\"URL\"].apply(extract_features) \n",
    "data_features = pd.json_normalize(phishing_data['Features'])\n",
    "phishing_data = pd.concat([phishing_data, data_features], axis=1)\n",
    "x_features = phishing_data.drop([\"Label\",\"URL\",\"Features\"], axis=1)"
   ]
  },
  {
   "cell_type": "code",
   "execution_count": 6,
   "id": "6dfc8659",
   "metadata": {
    "execution": {
     "iopub.execute_input": "2023-11-19T16:51:01.371289Z",
     "iopub.status.busy": "2023-11-19T16:51:01.371002Z",
     "iopub.status.idle": "2023-11-19T16:51:01.377777Z",
     "shell.execute_reply": "2023-11-19T16:51:01.377056Z"
    },
    "papermill": {
     "duration": 0.01977,
     "end_time": "2023-11-19T16:51:01.379523",
     "exception": false,
     "start_time": "2023-11-19T16:51:01.359753",
     "status": "completed"
    },
    "tags": []
   },
   "outputs": [],
   "source": [
    "x_train, x_test, y_train, y_test = train_test_split(x_features, y_labels, test_size = 0.2, random_state = 42)"
   ]
  },
  {
   "cell_type": "markdown",
   "id": "786cd9fa",
   "metadata": {
    "papermill": {
     "duration": 0.009393,
     "end_time": "2023-11-19T16:51:01.398393",
     "exception": false,
     "start_time": "2023-11-19T16:51:01.389000",
     "status": "completed"
    },
    "tags": []
   },
   "source": [
    "### Function for storing the data"
   ]
  },
  {
   "cell_type": "code",
   "execution_count": 7,
   "id": "3b63cf62",
   "metadata": {
    "execution": {
     "iopub.execute_input": "2023-11-19T16:51:01.418893Z",
     "iopub.status.busy": "2023-11-19T16:51:01.418164Z",
     "iopub.status.idle": "2023-11-19T16:51:01.423296Z",
     "shell.execute_reply": "2023-11-19T16:51:01.422551Z"
    },
    "papermill": {
     "duration": 0.017472,
     "end_time": "2023-11-19T16:51:01.425086",
     "exception": false,
     "start_time": "2023-11-19T16:51:01.407614",
     "status": "completed"
    },
    "tags": []
   },
   "outputs": [],
   "source": [
    "models = []\n",
    "accuracy_train = []\n",
    "accuracy_test = []\n",
    "\n",
    "def save_results(model, acc_tr, acc_te):\n",
    "    models.append(model)\n",
    "    accuracy_train.append(round(acc_tr, 3))\n",
    "    accuracy_test.append(round(acc_te, 3))"
   ]
  },
  {
   "cell_type": "markdown",
   "id": "5ff5f7e3",
   "metadata": {
    "papermill": {
     "duration": 0.009138,
     "end_time": "2023-11-19T16:51:01.443655",
     "exception": false,
     "start_time": "2023-11-19T16:51:01.434517",
     "status": "completed"
    },
    "tags": []
   },
   "source": [
    "# **Decision Tree**"
   ]
  },
  {
   "cell_type": "code",
   "execution_count": 8,
   "id": "9794de8c",
   "metadata": {
    "execution": {
     "iopub.execute_input": "2023-11-19T16:51:01.464661Z",
     "iopub.status.busy": "2023-11-19T16:51:01.463861Z",
     "iopub.status.idle": "2023-11-19T16:51:01.652934Z",
     "shell.execute_reply": "2023-11-19T16:51:01.651997Z"
    },
    "papermill": {
     "duration": 0.202294,
     "end_time": "2023-11-19T16:51:01.655222",
     "exception": false,
     "start_time": "2023-11-19T16:51:01.452928",
     "status": "completed"
    },
    "tags": []
   },
   "outputs": [
    {
     "data": {
      "text/html": [
       "<style>#sk-container-id-1 {color: black;background-color: white;}#sk-container-id-1 pre{padding: 0;}#sk-container-id-1 div.sk-toggleable {background-color: white;}#sk-container-id-1 label.sk-toggleable__label {cursor: pointer;display: block;width: 100%;margin-bottom: 0;padding: 0.3em;box-sizing: border-box;text-align: center;}#sk-container-id-1 label.sk-toggleable__label-arrow:before {content: \"▸\";float: left;margin-right: 0.25em;color: #696969;}#sk-container-id-1 label.sk-toggleable__label-arrow:hover:before {color: black;}#sk-container-id-1 div.sk-estimator:hover label.sk-toggleable__label-arrow:before {color: black;}#sk-container-id-1 div.sk-toggleable__content {max-height: 0;max-width: 0;overflow: hidden;text-align: left;background-color: #f0f8ff;}#sk-container-id-1 div.sk-toggleable__content pre {margin: 0.2em;color: black;border-radius: 0.25em;background-color: #f0f8ff;}#sk-container-id-1 input.sk-toggleable__control:checked~div.sk-toggleable__content {max-height: 200px;max-width: 100%;overflow: auto;}#sk-container-id-1 input.sk-toggleable__control:checked~label.sk-toggleable__label-arrow:before {content: \"▾\";}#sk-container-id-1 div.sk-estimator input.sk-toggleable__control:checked~label.sk-toggleable__label {background-color: #d4ebff;}#sk-container-id-1 div.sk-label input.sk-toggleable__control:checked~label.sk-toggleable__label {background-color: #d4ebff;}#sk-container-id-1 input.sk-hidden--visually {border: 0;clip: rect(1px 1px 1px 1px);clip: rect(1px, 1px, 1px, 1px);height: 1px;margin: -1px;overflow: hidden;padding: 0;position: absolute;width: 1px;}#sk-container-id-1 div.sk-estimator {font-family: monospace;background-color: #f0f8ff;border: 1px dotted black;border-radius: 0.25em;box-sizing: border-box;margin-bottom: 0.5em;}#sk-container-id-1 div.sk-estimator:hover {background-color: #d4ebff;}#sk-container-id-1 div.sk-parallel-item::after {content: \"\";width: 100%;border-bottom: 1px solid gray;flex-grow: 1;}#sk-container-id-1 div.sk-label:hover label.sk-toggleable__label {background-color: #d4ebff;}#sk-container-id-1 div.sk-serial::before {content: \"\";position: absolute;border-left: 1px solid gray;box-sizing: border-box;top: 0;bottom: 0;left: 50%;z-index: 0;}#sk-container-id-1 div.sk-serial {display: flex;flex-direction: column;align-items: center;background-color: white;padding-right: 0.2em;padding-left: 0.2em;position: relative;}#sk-container-id-1 div.sk-item {position: relative;z-index: 1;}#sk-container-id-1 div.sk-parallel {display: flex;align-items: stretch;justify-content: center;background-color: white;position: relative;}#sk-container-id-1 div.sk-item::before, #sk-container-id-1 div.sk-parallel-item::before {content: \"\";position: absolute;border-left: 1px solid gray;box-sizing: border-box;top: 0;bottom: 0;left: 50%;z-index: -1;}#sk-container-id-1 div.sk-parallel-item {display: flex;flex-direction: column;z-index: 1;position: relative;background-color: white;}#sk-container-id-1 div.sk-parallel-item:first-child::after {align-self: flex-end;width: 50%;}#sk-container-id-1 div.sk-parallel-item:last-child::after {align-self: flex-start;width: 50%;}#sk-container-id-1 div.sk-parallel-item:only-child::after {width: 0;}#sk-container-id-1 div.sk-dashed-wrapped {border: 1px dashed gray;margin: 0 0.4em 0.5em 0.4em;box-sizing: border-box;padding-bottom: 0.4em;background-color: white;}#sk-container-id-1 div.sk-label label {font-family: monospace;font-weight: bold;display: inline-block;line-height: 1.2em;}#sk-container-id-1 div.sk-label-container {text-align: center;}#sk-container-id-1 div.sk-container {/* jupyter's `normalize.less` sets `[hidden] { display: none; }` but bootstrap.min.css set `[hidden] { display: none !important; }` so we also need the `!important` here to be able to override the default hidden behavior on the sphinx rendered scikit-learn.org. See: https://github.com/scikit-learn/scikit-learn/issues/21755 */display: inline-block !important;position: relative;}#sk-container-id-1 div.sk-text-repr-fallback {display: none;}</style><div id=\"sk-container-id-1\" class=\"sk-top-container\"><div class=\"sk-text-repr-fallback\"><pre>DecisionTreeClassifier(max_depth=5)</pre><b>In a Jupyter environment, please rerun this cell to show the HTML representation or trust the notebook. <br />On GitHub, the HTML representation is unable to render, please try loading this page with nbviewer.org.</b></div><div class=\"sk-container\" hidden><div class=\"sk-item\"><div class=\"sk-estimator sk-toggleable\"><input class=\"sk-toggleable__control sk-hidden--visually\" id=\"sk-estimator-id-1\" type=\"checkbox\" checked><label for=\"sk-estimator-id-1\" class=\"sk-toggleable__label sk-toggleable__label-arrow\">DecisionTreeClassifier</label><div class=\"sk-toggleable__content\"><pre>DecisionTreeClassifier(max_depth=5)</pre></div></div></div></div></div>"
      ],
      "text/plain": [
       "DecisionTreeClassifier(max_depth=5)"
      ]
     },
     "execution_count": 8,
     "metadata": {},
     "output_type": "execute_result"
    }
   ],
   "source": [
    "from sklearn.tree import DecisionTreeClassifier\n",
    "\n",
    "tree = DecisionTreeClassifier(max_depth = 5)\n",
    "tree.fit(x_train, y_train)"
   ]
  },
  {
   "cell_type": "code",
   "execution_count": 9,
   "id": "28e0bc88",
   "metadata": {
    "execution": {
     "iopub.execute_input": "2023-11-19T16:51:01.676938Z",
     "iopub.status.busy": "2023-11-19T16:51:01.676056Z",
     "iopub.status.idle": "2023-11-19T16:51:01.683721Z",
     "shell.execute_reply": "2023-11-19T16:51:01.683113Z"
    },
    "papermill": {
     "duration": 0.02059,
     "end_time": "2023-11-19T16:51:01.685551",
     "exception": false,
     "start_time": "2023-11-19T16:51:01.664961",
     "status": "completed"
    },
    "tags": []
   },
   "outputs": [],
   "source": [
    "tree_x_train = tree.predict(x_train)\n",
    "tree_x_test = tree.predict(x_test)"
   ]
  },
  {
   "cell_type": "code",
   "execution_count": 10,
   "id": "2b15be8d",
   "metadata": {
    "execution": {
     "iopub.execute_input": "2023-11-19T16:51:01.706218Z",
     "iopub.status.busy": "2023-11-19T16:51:01.705867Z",
     "iopub.status.idle": "2023-11-19T16:51:01.744868Z",
     "shell.execute_reply": "2023-11-19T16:51:01.744087Z"
    },
    "papermill": {
     "duration": 0.05175,
     "end_time": "2023-11-19T16:51:01.747012",
     "exception": false,
     "start_time": "2023-11-19T16:51:01.695262",
     "status": "completed"
    },
    "tags": []
   },
   "outputs": [],
   "source": [
    "tree_acc_train = accuracy_score(y_train, tree_x_train)\n",
    "tree_acc_test = accuracy_score(y_test, tree_x_test)\n",
    "save_results('Decision Tree', tree_acc_train, tree_acc_test)"
   ]
  },
  {
   "cell_type": "markdown",
   "id": "b1640e5b",
   "metadata": {
    "papermill": {
     "duration": 0.009422,
     "end_time": "2023-11-19T16:51:01.766168",
     "exception": false,
     "start_time": "2023-11-19T16:51:01.756746",
     "status": "completed"
    },
    "tags": []
   },
   "source": [
    "# **Logistic Regression**"
   ]
  },
  {
   "cell_type": "code",
   "execution_count": 11,
   "id": "33b1341a",
   "metadata": {
    "execution": {
     "iopub.execute_input": "2023-11-19T16:51:01.786844Z",
     "iopub.status.busy": "2023-11-19T16:51:01.786496Z",
     "iopub.status.idle": "2023-11-19T16:51:01.906504Z",
     "shell.execute_reply": "2023-11-19T16:51:01.905160Z"
    },
    "papermill": {
     "duration": 0.134088,
     "end_time": "2023-11-19T16:51:01.909914",
     "exception": false,
     "start_time": "2023-11-19T16:51:01.775826",
     "status": "completed"
    },
    "tags": []
   },
   "outputs": [
    {
     "data": {
      "text/html": [
       "<style>#sk-container-id-2 {color: black;background-color: white;}#sk-container-id-2 pre{padding: 0;}#sk-container-id-2 div.sk-toggleable {background-color: white;}#sk-container-id-2 label.sk-toggleable__label {cursor: pointer;display: block;width: 100%;margin-bottom: 0;padding: 0.3em;box-sizing: border-box;text-align: center;}#sk-container-id-2 label.sk-toggleable__label-arrow:before {content: \"▸\";float: left;margin-right: 0.25em;color: #696969;}#sk-container-id-2 label.sk-toggleable__label-arrow:hover:before {color: black;}#sk-container-id-2 div.sk-estimator:hover label.sk-toggleable__label-arrow:before {color: black;}#sk-container-id-2 div.sk-toggleable__content {max-height: 0;max-width: 0;overflow: hidden;text-align: left;background-color: #f0f8ff;}#sk-container-id-2 div.sk-toggleable__content pre {margin: 0.2em;color: black;border-radius: 0.25em;background-color: #f0f8ff;}#sk-container-id-2 input.sk-toggleable__control:checked~div.sk-toggleable__content {max-height: 200px;max-width: 100%;overflow: auto;}#sk-container-id-2 input.sk-toggleable__control:checked~label.sk-toggleable__label-arrow:before {content: \"▾\";}#sk-container-id-2 div.sk-estimator input.sk-toggleable__control:checked~label.sk-toggleable__label {background-color: #d4ebff;}#sk-container-id-2 div.sk-label input.sk-toggleable__control:checked~label.sk-toggleable__label {background-color: #d4ebff;}#sk-container-id-2 input.sk-hidden--visually {border: 0;clip: rect(1px 1px 1px 1px);clip: rect(1px, 1px, 1px, 1px);height: 1px;margin: -1px;overflow: hidden;padding: 0;position: absolute;width: 1px;}#sk-container-id-2 div.sk-estimator {font-family: monospace;background-color: #f0f8ff;border: 1px dotted black;border-radius: 0.25em;box-sizing: border-box;margin-bottom: 0.5em;}#sk-container-id-2 div.sk-estimator:hover {background-color: #d4ebff;}#sk-container-id-2 div.sk-parallel-item::after {content: \"\";width: 100%;border-bottom: 1px solid gray;flex-grow: 1;}#sk-container-id-2 div.sk-label:hover label.sk-toggleable__label {background-color: #d4ebff;}#sk-container-id-2 div.sk-serial::before {content: \"\";position: absolute;border-left: 1px solid gray;box-sizing: border-box;top: 0;bottom: 0;left: 50%;z-index: 0;}#sk-container-id-2 div.sk-serial {display: flex;flex-direction: column;align-items: center;background-color: white;padding-right: 0.2em;padding-left: 0.2em;position: relative;}#sk-container-id-2 div.sk-item {position: relative;z-index: 1;}#sk-container-id-2 div.sk-parallel {display: flex;align-items: stretch;justify-content: center;background-color: white;position: relative;}#sk-container-id-2 div.sk-item::before, #sk-container-id-2 div.sk-parallel-item::before {content: \"\";position: absolute;border-left: 1px solid gray;box-sizing: border-box;top: 0;bottom: 0;left: 50%;z-index: -1;}#sk-container-id-2 div.sk-parallel-item {display: flex;flex-direction: column;z-index: 1;position: relative;background-color: white;}#sk-container-id-2 div.sk-parallel-item:first-child::after {align-self: flex-end;width: 50%;}#sk-container-id-2 div.sk-parallel-item:last-child::after {align-self: flex-start;width: 50%;}#sk-container-id-2 div.sk-parallel-item:only-child::after {width: 0;}#sk-container-id-2 div.sk-dashed-wrapped {border: 1px dashed gray;margin: 0 0.4em 0.5em 0.4em;box-sizing: border-box;padding-bottom: 0.4em;background-color: white;}#sk-container-id-2 div.sk-label label {font-family: monospace;font-weight: bold;display: inline-block;line-height: 1.2em;}#sk-container-id-2 div.sk-label-container {text-align: center;}#sk-container-id-2 div.sk-container {/* jupyter's `normalize.less` sets `[hidden] { display: none; }` but bootstrap.min.css set `[hidden] { display: none !important; }` so we also need the `!important` here to be able to override the default hidden behavior on the sphinx rendered scikit-learn.org. See: https://github.com/scikit-learn/scikit-learn/issues/21755 */display: inline-block !important;position: relative;}#sk-container-id-2 div.sk-text-repr-fallback {display: none;}</style><div id=\"sk-container-id-2\" class=\"sk-top-container\"><div class=\"sk-text-repr-fallback\"><pre>LogisticRegression()</pre><b>In a Jupyter environment, please rerun this cell to show the HTML representation or trust the notebook. <br />On GitHub, the HTML representation is unable to render, please try loading this page with nbviewer.org.</b></div><div class=\"sk-container\" hidden><div class=\"sk-item\"><div class=\"sk-estimator sk-toggleable\"><input class=\"sk-toggleable__control sk-hidden--visually\" id=\"sk-estimator-id-2\" type=\"checkbox\" checked><label for=\"sk-estimator-id-2\" class=\"sk-toggleable__label sk-toggleable__label-arrow\">LogisticRegression</label><div class=\"sk-toggleable__content\"><pre>LogisticRegression()</pre></div></div></div></div></div>"
      ],
      "text/plain": [
       "LogisticRegression()"
      ]
     },
     "execution_count": 11,
     "metadata": {},
     "output_type": "execute_result"
    }
   ],
   "source": [
    "from sklearn.linear_model import LogisticRegression\n",
    "\n",
    "lre = LogisticRegression()\n",
    "lre.fit(x_train, y_train)"
   ]
  },
  {
   "cell_type": "code",
   "execution_count": 12,
   "id": "b53199c6",
   "metadata": {
    "execution": {
     "iopub.execute_input": "2023-11-19T16:51:01.954002Z",
     "iopub.status.busy": "2023-11-19T16:51:01.953449Z",
     "iopub.status.idle": "2023-11-19T16:51:01.968410Z",
     "shell.execute_reply": "2023-11-19T16:51:01.967261Z"
    },
    "papermill": {
     "duration": 0.040537,
     "end_time": "2023-11-19T16:51:01.971626",
     "exception": false,
     "start_time": "2023-11-19T16:51:01.931089",
     "status": "completed"
    },
    "tags": []
   },
   "outputs": [],
   "source": [
    "lre_x_train = lre.predict(x_train)\n",
    "lre_x_test = lre.predict(x_test)"
   ]
  },
  {
   "cell_type": "code",
   "execution_count": 13,
   "id": "3062c4b7",
   "metadata": {
    "execution": {
     "iopub.execute_input": "2023-11-19T16:51:02.015318Z",
     "iopub.status.busy": "2023-11-19T16:51:02.014727Z",
     "iopub.status.idle": "2023-11-19T16:51:02.090470Z",
     "shell.execute_reply": "2023-11-19T16:51:02.089824Z"
    },
    "papermill": {
     "duration": 0.099896,
     "end_time": "2023-11-19T16:51:02.092303",
     "exception": false,
     "start_time": "2023-11-19T16:51:01.992407",
     "status": "completed"
    },
    "tags": []
   },
   "outputs": [],
   "source": [
    "lre_acc_train = accuracy_score(y_train, lre_x_train)\n",
    "lre_acc_test = accuracy_score(y_test, lre_x_test)\n",
    "save_results('Logistic Regression', lre_acc_train, lre_acc_test)"
   ]
  },
  {
   "cell_type": "markdown",
   "id": "d6c29f18",
   "metadata": {
    "papermill": {
     "duration": 0.009438,
     "end_time": "2023-11-19T16:51:02.111660",
     "exception": false,
     "start_time": "2023-11-19T16:51:02.102222",
     "status": "completed"
    },
    "tags": []
   },
   "source": [
    "# **Random Forest**"
   ]
  },
  {
   "cell_type": "code",
   "execution_count": 14,
   "id": "4a8d481b",
   "metadata": {
    "execution": {
     "iopub.execute_input": "2023-11-19T16:51:02.132597Z",
     "iopub.status.busy": "2023-11-19T16:51:02.132013Z",
     "iopub.status.idle": "2023-11-19T16:51:02.573550Z",
     "shell.execute_reply": "2023-11-19T16:51:02.572496Z"
    },
    "papermill": {
     "duration": 0.454764,
     "end_time": "2023-11-19T16:51:02.576195",
     "exception": false,
     "start_time": "2023-11-19T16:51:02.121431",
     "status": "completed"
    },
    "tags": []
   },
   "outputs": [
    {
     "data": {
      "text/html": [
       "<style>#sk-container-id-3 {color: black;background-color: white;}#sk-container-id-3 pre{padding: 0;}#sk-container-id-3 div.sk-toggleable {background-color: white;}#sk-container-id-3 label.sk-toggleable__label {cursor: pointer;display: block;width: 100%;margin-bottom: 0;padding: 0.3em;box-sizing: border-box;text-align: center;}#sk-container-id-3 label.sk-toggleable__label-arrow:before {content: \"▸\";float: left;margin-right: 0.25em;color: #696969;}#sk-container-id-3 label.sk-toggleable__label-arrow:hover:before {color: black;}#sk-container-id-3 div.sk-estimator:hover label.sk-toggleable__label-arrow:before {color: black;}#sk-container-id-3 div.sk-toggleable__content {max-height: 0;max-width: 0;overflow: hidden;text-align: left;background-color: #f0f8ff;}#sk-container-id-3 div.sk-toggleable__content pre {margin: 0.2em;color: black;border-radius: 0.25em;background-color: #f0f8ff;}#sk-container-id-3 input.sk-toggleable__control:checked~div.sk-toggleable__content {max-height: 200px;max-width: 100%;overflow: auto;}#sk-container-id-3 input.sk-toggleable__control:checked~label.sk-toggleable__label-arrow:before {content: \"▾\";}#sk-container-id-3 div.sk-estimator input.sk-toggleable__control:checked~label.sk-toggleable__label {background-color: #d4ebff;}#sk-container-id-3 div.sk-label input.sk-toggleable__control:checked~label.sk-toggleable__label {background-color: #d4ebff;}#sk-container-id-3 input.sk-hidden--visually {border: 0;clip: rect(1px 1px 1px 1px);clip: rect(1px, 1px, 1px, 1px);height: 1px;margin: -1px;overflow: hidden;padding: 0;position: absolute;width: 1px;}#sk-container-id-3 div.sk-estimator {font-family: monospace;background-color: #f0f8ff;border: 1px dotted black;border-radius: 0.25em;box-sizing: border-box;margin-bottom: 0.5em;}#sk-container-id-3 div.sk-estimator:hover {background-color: #d4ebff;}#sk-container-id-3 div.sk-parallel-item::after {content: \"\";width: 100%;border-bottom: 1px solid gray;flex-grow: 1;}#sk-container-id-3 div.sk-label:hover label.sk-toggleable__label {background-color: #d4ebff;}#sk-container-id-3 div.sk-serial::before {content: \"\";position: absolute;border-left: 1px solid gray;box-sizing: border-box;top: 0;bottom: 0;left: 50%;z-index: 0;}#sk-container-id-3 div.sk-serial {display: flex;flex-direction: column;align-items: center;background-color: white;padding-right: 0.2em;padding-left: 0.2em;position: relative;}#sk-container-id-3 div.sk-item {position: relative;z-index: 1;}#sk-container-id-3 div.sk-parallel {display: flex;align-items: stretch;justify-content: center;background-color: white;position: relative;}#sk-container-id-3 div.sk-item::before, #sk-container-id-3 div.sk-parallel-item::before {content: \"\";position: absolute;border-left: 1px solid gray;box-sizing: border-box;top: 0;bottom: 0;left: 50%;z-index: -1;}#sk-container-id-3 div.sk-parallel-item {display: flex;flex-direction: column;z-index: 1;position: relative;background-color: white;}#sk-container-id-3 div.sk-parallel-item:first-child::after {align-self: flex-end;width: 50%;}#sk-container-id-3 div.sk-parallel-item:last-child::after {align-self: flex-start;width: 50%;}#sk-container-id-3 div.sk-parallel-item:only-child::after {width: 0;}#sk-container-id-3 div.sk-dashed-wrapped {border: 1px dashed gray;margin: 0 0.4em 0.5em 0.4em;box-sizing: border-box;padding-bottom: 0.4em;background-color: white;}#sk-container-id-3 div.sk-label label {font-family: monospace;font-weight: bold;display: inline-block;line-height: 1.2em;}#sk-container-id-3 div.sk-label-container {text-align: center;}#sk-container-id-3 div.sk-container {/* jupyter's `normalize.less` sets `[hidden] { display: none; }` but bootstrap.min.css set `[hidden] { display: none !important; }` so we also need the `!important` here to be able to override the default hidden behavior on the sphinx rendered scikit-learn.org. See: https://github.com/scikit-learn/scikit-learn/issues/21755 */display: inline-block !important;position: relative;}#sk-container-id-3 div.sk-text-repr-fallback {display: none;}</style><div id=\"sk-container-id-3\" class=\"sk-top-container\"><div class=\"sk-text-repr-fallback\"><pre>RandomForestClassifier(max_depth=5)</pre><b>In a Jupyter environment, please rerun this cell to show the HTML representation or trust the notebook. <br />On GitHub, the HTML representation is unable to render, please try loading this page with nbviewer.org.</b></div><div class=\"sk-container\" hidden><div class=\"sk-item\"><div class=\"sk-estimator sk-toggleable\"><input class=\"sk-toggleable__control sk-hidden--visually\" id=\"sk-estimator-id-3\" type=\"checkbox\" checked><label for=\"sk-estimator-id-3\" class=\"sk-toggleable__label sk-toggleable__label-arrow\">RandomForestClassifier</label><div class=\"sk-toggleable__content\"><pre>RandomForestClassifier(max_depth=5)</pre></div></div></div></div></div>"
      ],
      "text/plain": [
       "RandomForestClassifier(max_depth=5)"
      ]
     },
     "execution_count": 14,
     "metadata": {},
     "output_type": "execute_result"
    }
   ],
   "source": [
    "from sklearn.ensemble import RandomForestClassifier\n",
    "\n",
    "forest = RandomForestClassifier(max_depth=5)\n",
    "forest.fit(x_train, y_train)"
   ]
  },
  {
   "cell_type": "code",
   "execution_count": 15,
   "id": "79101ef8",
   "metadata": {
    "execution": {
     "iopub.execute_input": "2023-11-19T16:51:02.598099Z",
     "iopub.status.busy": "2023-11-19T16:51:02.597783Z",
     "iopub.status.idle": "2023-11-19T16:51:02.675347Z",
     "shell.execute_reply": "2023-11-19T16:51:02.674271Z"
    },
    "papermill": {
     "duration": 0.090778,
     "end_time": "2023-11-19T16:51:02.677533",
     "exception": false,
     "start_time": "2023-11-19T16:51:02.586755",
     "status": "completed"
    },
    "tags": []
   },
   "outputs": [],
   "source": [
    "forest_x_train = forest.predict(x_train)\n",
    "forest_x_test = forest.predict(x_test)"
   ]
  },
  {
   "cell_type": "code",
   "execution_count": 16,
   "id": "c143b01b",
   "metadata": {
    "execution": {
     "iopub.execute_input": "2023-11-19T16:51:02.699137Z",
     "iopub.status.busy": "2023-11-19T16:51:02.698394Z",
     "iopub.status.idle": "2023-11-19T16:51:02.737386Z",
     "shell.execute_reply": "2023-11-19T16:51:02.736713Z"
    },
    "papermill": {
     "duration": 0.05203,
     "end_time": "2023-11-19T16:51:02.739586",
     "exception": false,
     "start_time": "2023-11-19T16:51:02.687556",
     "status": "completed"
    },
    "tags": []
   },
   "outputs": [],
   "source": [
    "forest_acc_train = accuracy_score(y_train, forest_x_train)\n",
    "forest_acc_test = accuracy_score(y_test, forest_x_test)\n",
    "save_results(\"Random Forest\", forest_acc_train, forest_acc_test)"
   ]
  },
  {
   "cell_type": "markdown",
   "id": "34faef52",
   "metadata": {
    "papermill": {
     "duration": 0.010065,
     "end_time": "2023-11-19T16:51:02.759955",
     "exception": false,
     "start_time": "2023-11-19T16:51:02.749890",
     "status": "completed"
    },
    "tags": []
   },
   "source": [
    "# **Support Vector Machine**"
   ]
  },
  {
   "cell_type": "code",
   "execution_count": 17,
   "id": "c1ffeb1c",
   "metadata": {
    "execution": {
     "iopub.execute_input": "2023-11-19T16:51:02.781285Z",
     "iopub.status.busy": "2023-11-19T16:51:02.781004Z",
     "iopub.status.idle": "2023-11-19T16:56:15.902479Z",
     "shell.execute_reply": "2023-11-19T16:56:15.901310Z"
    },
    "papermill": {
     "duration": 313.145392,
     "end_time": "2023-11-19T16:56:15.915260",
     "exception": false,
     "start_time": "2023-11-19T16:51:02.769868",
     "status": "completed"
    },
    "tags": []
   },
   "outputs": [
    {
     "data": {
      "text/html": [
       "<style>#sk-container-id-4 {color: black;background-color: white;}#sk-container-id-4 pre{padding: 0;}#sk-container-id-4 div.sk-toggleable {background-color: white;}#sk-container-id-4 label.sk-toggleable__label {cursor: pointer;display: block;width: 100%;margin-bottom: 0;padding: 0.3em;box-sizing: border-box;text-align: center;}#sk-container-id-4 label.sk-toggleable__label-arrow:before {content: \"▸\";float: left;margin-right: 0.25em;color: #696969;}#sk-container-id-4 label.sk-toggleable__label-arrow:hover:before {color: black;}#sk-container-id-4 div.sk-estimator:hover label.sk-toggleable__label-arrow:before {color: black;}#sk-container-id-4 div.sk-toggleable__content {max-height: 0;max-width: 0;overflow: hidden;text-align: left;background-color: #f0f8ff;}#sk-container-id-4 div.sk-toggleable__content pre {margin: 0.2em;color: black;border-radius: 0.25em;background-color: #f0f8ff;}#sk-container-id-4 input.sk-toggleable__control:checked~div.sk-toggleable__content {max-height: 200px;max-width: 100%;overflow: auto;}#sk-container-id-4 input.sk-toggleable__control:checked~label.sk-toggleable__label-arrow:before {content: \"▾\";}#sk-container-id-4 div.sk-estimator input.sk-toggleable__control:checked~label.sk-toggleable__label {background-color: #d4ebff;}#sk-container-id-4 div.sk-label input.sk-toggleable__control:checked~label.sk-toggleable__label {background-color: #d4ebff;}#sk-container-id-4 input.sk-hidden--visually {border: 0;clip: rect(1px 1px 1px 1px);clip: rect(1px, 1px, 1px, 1px);height: 1px;margin: -1px;overflow: hidden;padding: 0;position: absolute;width: 1px;}#sk-container-id-4 div.sk-estimator {font-family: monospace;background-color: #f0f8ff;border: 1px dotted black;border-radius: 0.25em;box-sizing: border-box;margin-bottom: 0.5em;}#sk-container-id-4 div.sk-estimator:hover {background-color: #d4ebff;}#sk-container-id-4 div.sk-parallel-item::after {content: \"\";width: 100%;border-bottom: 1px solid gray;flex-grow: 1;}#sk-container-id-4 div.sk-label:hover label.sk-toggleable__label {background-color: #d4ebff;}#sk-container-id-4 div.sk-serial::before {content: \"\";position: absolute;border-left: 1px solid gray;box-sizing: border-box;top: 0;bottom: 0;left: 50%;z-index: 0;}#sk-container-id-4 div.sk-serial {display: flex;flex-direction: column;align-items: center;background-color: white;padding-right: 0.2em;padding-left: 0.2em;position: relative;}#sk-container-id-4 div.sk-item {position: relative;z-index: 1;}#sk-container-id-4 div.sk-parallel {display: flex;align-items: stretch;justify-content: center;background-color: white;position: relative;}#sk-container-id-4 div.sk-item::before, #sk-container-id-4 div.sk-parallel-item::before {content: \"\";position: absolute;border-left: 1px solid gray;box-sizing: border-box;top: 0;bottom: 0;left: 50%;z-index: -1;}#sk-container-id-4 div.sk-parallel-item {display: flex;flex-direction: column;z-index: 1;position: relative;background-color: white;}#sk-container-id-4 div.sk-parallel-item:first-child::after {align-self: flex-end;width: 50%;}#sk-container-id-4 div.sk-parallel-item:last-child::after {align-self: flex-start;width: 50%;}#sk-container-id-4 div.sk-parallel-item:only-child::after {width: 0;}#sk-container-id-4 div.sk-dashed-wrapped {border: 1px dashed gray;margin: 0 0.4em 0.5em 0.4em;box-sizing: border-box;padding-bottom: 0.4em;background-color: white;}#sk-container-id-4 div.sk-label label {font-family: monospace;font-weight: bold;display: inline-block;line-height: 1.2em;}#sk-container-id-4 div.sk-label-container {text-align: center;}#sk-container-id-4 div.sk-container {/* jupyter's `normalize.less` sets `[hidden] { display: none; }` but bootstrap.min.css set `[hidden] { display: none !important; }` so we also need the `!important` here to be able to override the default hidden behavior on the sphinx rendered scikit-learn.org. See: https://github.com/scikit-learn/scikit-learn/issues/21755 */display: inline-block !important;position: relative;}#sk-container-id-4 div.sk-text-repr-fallback {display: none;}</style><div id=\"sk-container-id-4\" class=\"sk-top-container\"><div class=\"sk-text-repr-fallback\"><pre>SVC(kernel=&#x27;linear&#x27;)</pre><b>In a Jupyter environment, please rerun this cell to show the HTML representation or trust the notebook. <br />On GitHub, the HTML representation is unable to render, please try loading this page with nbviewer.org.</b></div><div class=\"sk-container\" hidden><div class=\"sk-item\"><div class=\"sk-estimator sk-toggleable\"><input class=\"sk-toggleable__control sk-hidden--visually\" id=\"sk-estimator-id-4\" type=\"checkbox\" checked><label for=\"sk-estimator-id-4\" class=\"sk-toggleable__label sk-toggleable__label-arrow\">SVC</label><div class=\"sk-toggleable__content\"><pre>SVC(kernel=&#x27;linear&#x27;)</pre></div></div></div></div></div>"
      ],
      "text/plain": [
       "SVC(kernel='linear')"
      ]
     },
     "execution_count": 17,
     "metadata": {},
     "output_type": "execute_result"
    }
   ],
   "source": [
    "from sklearn.svm import SVC\n",
    "\n",
    "svm = SVC(kernel='linear')\n",
    "svm.fit(x_train, y_train)"
   ]
  },
  {
   "cell_type": "code",
   "execution_count": 18,
   "id": "eabd7a69",
   "metadata": {
    "execution": {
     "iopub.execute_input": "2023-11-19T16:56:15.937495Z",
     "iopub.status.busy": "2023-11-19T16:56:15.937163Z",
     "iopub.status.idle": "2023-11-19T16:56:16.964440Z",
     "shell.execute_reply": "2023-11-19T16:56:16.963628Z"
    },
    "papermill": {
     "duration": 1.041406,
     "end_time": "2023-11-19T16:56:16.966711",
     "exception": false,
     "start_time": "2023-11-19T16:56:15.925305",
     "status": "completed"
    },
    "tags": []
   },
   "outputs": [],
   "source": [
    "svm_x_train = svm.predict(x_train)\n",
    "svm_x_test = svm.predict(x_test)"
   ]
  },
  {
   "cell_type": "code",
   "execution_count": 19,
   "id": "5eeee44c",
   "metadata": {
    "execution": {
     "iopub.execute_input": "2023-11-19T16:56:17.037434Z",
     "iopub.status.busy": "2023-11-19T16:56:17.037060Z",
     "iopub.status.idle": "2023-11-19T16:56:17.077213Z",
     "shell.execute_reply": "2023-11-19T16:56:17.076587Z"
    },
    "papermill": {
     "duration": 0.101443,
     "end_time": "2023-11-19T16:56:17.079013",
     "exception": false,
     "start_time": "2023-11-19T16:56:16.977570",
     "status": "completed"
    },
    "tags": []
   },
   "outputs": [],
   "source": [
    "svm_acc_train = accuracy_score(y_train, svm_x_train)\n",
    "svm_acc_test = accuracy_score(y_test, svm_x_test)\n",
    "save_results(\"Support Vector Machine\", svm_acc_train, svm_acc_test)"
   ]
  },
  {
   "cell_type": "markdown",
   "id": "686ad746",
   "metadata": {
    "papermill": {
     "duration": 0.010378,
     "end_time": "2023-11-19T16:56:17.099983",
     "exception": false,
     "start_time": "2023-11-19T16:56:17.089605",
     "status": "completed"
    },
    "tags": []
   },
   "source": [
    "# **MLP Classifier**"
   ]
  },
  {
   "cell_type": "code",
   "execution_count": 20,
   "id": "23c32423",
   "metadata": {
    "execution": {
     "iopub.execute_input": "2023-11-19T16:56:17.122141Z",
     "iopub.status.busy": "2023-11-19T16:56:17.121465Z",
     "iopub.status.idle": "2023-11-19T16:56:39.238290Z",
     "shell.execute_reply": "2023-11-19T16:56:39.237091Z"
    },
    "papermill": {
     "duration": 22.132637,
     "end_time": "2023-11-19T16:56:39.242772",
     "exception": false,
     "start_time": "2023-11-19T16:56:17.110135",
     "status": "completed"
    },
    "tags": []
   },
   "outputs": [
    {
     "data": {
      "text/html": [
       "<style>#sk-container-id-5 {color: black;background-color: white;}#sk-container-id-5 pre{padding: 0;}#sk-container-id-5 div.sk-toggleable {background-color: white;}#sk-container-id-5 label.sk-toggleable__label {cursor: pointer;display: block;width: 100%;margin-bottom: 0;padding: 0.3em;box-sizing: border-box;text-align: center;}#sk-container-id-5 label.sk-toggleable__label-arrow:before {content: \"▸\";float: left;margin-right: 0.25em;color: #696969;}#sk-container-id-5 label.sk-toggleable__label-arrow:hover:before {color: black;}#sk-container-id-5 div.sk-estimator:hover label.sk-toggleable__label-arrow:before {color: black;}#sk-container-id-5 div.sk-toggleable__content {max-height: 0;max-width: 0;overflow: hidden;text-align: left;background-color: #f0f8ff;}#sk-container-id-5 div.sk-toggleable__content pre {margin: 0.2em;color: black;border-radius: 0.25em;background-color: #f0f8ff;}#sk-container-id-5 input.sk-toggleable__control:checked~div.sk-toggleable__content {max-height: 200px;max-width: 100%;overflow: auto;}#sk-container-id-5 input.sk-toggleable__control:checked~label.sk-toggleable__label-arrow:before {content: \"▾\";}#sk-container-id-5 div.sk-estimator input.sk-toggleable__control:checked~label.sk-toggleable__label {background-color: #d4ebff;}#sk-container-id-5 div.sk-label input.sk-toggleable__control:checked~label.sk-toggleable__label {background-color: #d4ebff;}#sk-container-id-5 input.sk-hidden--visually {border: 0;clip: rect(1px 1px 1px 1px);clip: rect(1px, 1px, 1px, 1px);height: 1px;margin: -1px;overflow: hidden;padding: 0;position: absolute;width: 1px;}#sk-container-id-5 div.sk-estimator {font-family: monospace;background-color: #f0f8ff;border: 1px dotted black;border-radius: 0.25em;box-sizing: border-box;margin-bottom: 0.5em;}#sk-container-id-5 div.sk-estimator:hover {background-color: #d4ebff;}#sk-container-id-5 div.sk-parallel-item::after {content: \"\";width: 100%;border-bottom: 1px solid gray;flex-grow: 1;}#sk-container-id-5 div.sk-label:hover label.sk-toggleable__label {background-color: #d4ebff;}#sk-container-id-5 div.sk-serial::before {content: \"\";position: absolute;border-left: 1px solid gray;box-sizing: border-box;top: 0;bottom: 0;left: 50%;z-index: 0;}#sk-container-id-5 div.sk-serial {display: flex;flex-direction: column;align-items: center;background-color: white;padding-right: 0.2em;padding-left: 0.2em;position: relative;}#sk-container-id-5 div.sk-item {position: relative;z-index: 1;}#sk-container-id-5 div.sk-parallel {display: flex;align-items: stretch;justify-content: center;background-color: white;position: relative;}#sk-container-id-5 div.sk-item::before, #sk-container-id-5 div.sk-parallel-item::before {content: \"\";position: absolute;border-left: 1px solid gray;box-sizing: border-box;top: 0;bottom: 0;left: 50%;z-index: -1;}#sk-container-id-5 div.sk-parallel-item {display: flex;flex-direction: column;z-index: 1;position: relative;background-color: white;}#sk-container-id-5 div.sk-parallel-item:first-child::after {align-self: flex-end;width: 50%;}#sk-container-id-5 div.sk-parallel-item:last-child::after {align-self: flex-start;width: 50%;}#sk-container-id-5 div.sk-parallel-item:only-child::after {width: 0;}#sk-container-id-5 div.sk-dashed-wrapped {border: 1px dashed gray;margin: 0 0.4em 0.5em 0.4em;box-sizing: border-box;padding-bottom: 0.4em;background-color: white;}#sk-container-id-5 div.sk-label label {font-family: monospace;font-weight: bold;display: inline-block;line-height: 1.2em;}#sk-container-id-5 div.sk-label-container {text-align: center;}#sk-container-id-5 div.sk-container {/* jupyter's `normalize.less` sets `[hidden] { display: none; }` but bootstrap.min.css set `[hidden] { display: none !important; }` so we also need the `!important` here to be able to override the default hidden behavior on the sphinx rendered scikit-learn.org. See: https://github.com/scikit-learn/scikit-learn/issues/21755 */display: inline-block !important;position: relative;}#sk-container-id-5 div.sk-text-repr-fallback {display: none;}</style><div id=\"sk-container-id-5\" class=\"sk-top-container\"><div class=\"sk-text-repr-fallback\"><pre>MLPClassifier(alpha=0.001, hidden_layer_sizes=[100, 100, 100])</pre><b>In a Jupyter environment, please rerun this cell to show the HTML representation or trust the notebook. <br />On GitHub, the HTML representation is unable to render, please try loading this page with nbviewer.org.</b></div><div class=\"sk-container\" hidden><div class=\"sk-item\"><div class=\"sk-estimator sk-toggleable\"><input class=\"sk-toggleable__control sk-hidden--visually\" id=\"sk-estimator-id-5\" type=\"checkbox\" checked><label for=\"sk-estimator-id-5\" class=\"sk-toggleable__label sk-toggleable__label-arrow\">MLPClassifier</label><div class=\"sk-toggleable__content\"><pre>MLPClassifier(alpha=0.001, hidden_layer_sizes=[100, 100, 100])</pre></div></div></div></div></div>"
      ],
      "text/plain": [
       "MLPClassifier(alpha=0.001, hidden_layer_sizes=[100, 100, 100])"
      ]
     },
     "execution_count": 20,
     "metadata": {},
     "output_type": "execute_result"
    }
   ],
   "source": [
    "from sklearn.neural_network import MLPClassifier\n",
    "mlp = MLPClassifier(alpha=0.001, hidden_layer_sizes = [100,100,100])\n",
    "mlp.fit(x_train, y_train)"
   ]
  },
  {
   "cell_type": "code",
   "execution_count": 21,
   "id": "891d4049",
   "metadata": {
    "execution": {
     "iopub.execute_input": "2023-11-19T16:56:39.291565Z",
     "iopub.status.busy": "2023-11-19T16:56:39.291045Z",
     "iopub.status.idle": "2023-11-19T16:56:39.329374Z",
     "shell.execute_reply": "2023-11-19T16:56:39.328143Z"
    },
    "papermill": {
     "duration": 0.066283,
     "end_time": "2023-11-19T16:56:39.333083",
     "exception": false,
     "start_time": "2023-11-19T16:56:39.266800",
     "status": "completed"
    },
    "tags": []
   },
   "outputs": [],
   "source": [
    "mlp_x_train = mlp.predict(x_train)\n",
    "mlp_x_test = mlp.predict(x_test)"
   ]
  },
  {
   "cell_type": "code",
   "execution_count": 22,
   "id": "361dc53a",
   "metadata": {
    "execution": {
     "iopub.execute_input": "2023-11-19T16:56:39.384464Z",
     "iopub.status.busy": "2023-11-19T16:56:39.383122Z",
     "iopub.status.idle": "2023-11-19T16:56:39.456479Z",
     "shell.execute_reply": "2023-11-19T16:56:39.455767Z"
    },
    "papermill": {
     "duration": 0.101549,
     "end_time": "2023-11-19T16:56:39.458910",
     "exception": false,
     "start_time": "2023-11-19T16:56:39.357361",
     "status": "completed"
    },
    "tags": []
   },
   "outputs": [],
   "source": [
    "mlp_acc_train = accuracy_score(y_train, mlp_x_train)\n",
    "mlp_acc_test = accuracy_score(y_test, mlp_x_test)\n",
    "save_results(\"MLP Classifier\", mlp_acc_train, mlp_acc_test)"
   ]
  },
  {
   "cell_type": "markdown",
   "id": "4cf77cae",
   "metadata": {
    "papermill": {
     "duration": 0.010295,
     "end_time": "2023-11-19T16:56:39.483027",
     "exception": false,
     "start_time": "2023-11-19T16:56:39.472732",
     "status": "completed"
    },
    "tags": []
   },
   "source": [
    "# **Model Comparison**"
   ]
  },
  {
   "cell_type": "code",
   "execution_count": 23,
   "id": "fa0292e1",
   "metadata": {
    "execution": {
     "iopub.execute_input": "2023-11-19T16:56:39.506583Z",
     "iopub.status.busy": "2023-11-19T16:56:39.505702Z",
     "iopub.status.idle": "2023-11-19T16:56:39.524450Z",
     "shell.execute_reply": "2023-11-19T16:56:39.523658Z"
    },
    "papermill": {
     "duration": 0.032681,
     "end_time": "2023-11-19T16:56:39.526552",
     "exception": false,
     "start_time": "2023-11-19T16:56:39.493871",
     "status": "completed"
    },
    "tags": []
   },
   "outputs": [
    {
     "data": {
      "text/html": [
       "<div>\n",
       "<style scoped>\n",
       "    .dataframe tbody tr th:only-of-type {\n",
       "        vertical-align: middle;\n",
       "    }\n",
       "\n",
       "    .dataframe tbody tr th {\n",
       "        vertical-align: top;\n",
       "    }\n",
       "\n",
       "    .dataframe thead th {\n",
       "        text-align: right;\n",
       "    }\n",
       "</style>\n",
       "<table border=\"1\" class=\"dataframe\">\n",
       "  <thead>\n",
       "    <tr style=\"text-align: right;\">\n",
       "      <th></th>\n",
       "      <th>Machine Learning Model</th>\n",
       "      <th>Train Accuracy</th>\n",
       "      <th>Test Accuracy</th>\n",
       "    </tr>\n",
       "  </thead>\n",
       "  <tbody>\n",
       "    <tr>\n",
       "      <th>4</th>\n",
       "      <td>MLP Classifier</td>\n",
       "      <td>0.808</td>\n",
       "      <td>0.818</td>\n",
       "    </tr>\n",
       "    <tr>\n",
       "      <th>0</th>\n",
       "      <td>Decision Tree</td>\n",
       "      <td>0.796</td>\n",
       "      <td>0.806</td>\n",
       "    </tr>\n",
       "    <tr>\n",
       "      <th>2</th>\n",
       "      <td>Random Forest</td>\n",
       "      <td>0.784</td>\n",
       "      <td>0.800</td>\n",
       "    </tr>\n",
       "    <tr>\n",
       "      <th>1</th>\n",
       "      <td>Logistic Regression</td>\n",
       "      <td>0.745</td>\n",
       "      <td>0.749</td>\n",
       "    </tr>\n",
       "    <tr>\n",
       "      <th>3</th>\n",
       "      <td>Support Vector Machine</td>\n",
       "      <td>0.731</td>\n",
       "      <td>0.740</td>\n",
       "    </tr>\n",
       "  </tbody>\n",
       "</table>\n",
       "</div>"
      ],
      "text/plain": [
       "   Machine Learning Model  Train Accuracy  Test Accuracy\n",
       "4          MLP Classifier           0.808          0.818\n",
       "0           Decision Tree           0.796          0.806\n",
       "2           Random Forest           0.784          0.800\n",
       "1     Logistic Regression           0.745          0.749\n",
       "3  Support Vector Machine           0.731          0.740"
      ]
     },
     "execution_count": 23,
     "metadata": {},
     "output_type": "execute_result"
    }
   ],
   "source": [
    "table = pd.DataFrame({'Machine Learning Model': models,\n",
    "                     'Train Accuracy': accuracy_train,\n",
    "                     'Test Accuracy': accuracy_test})\n",
    "table.sort_values(by=['Test Accuracy', 'Train Accuracy'], ascending=False)"
   ]
  },
  {
   "cell_type": "code",
   "execution_count": 24,
   "id": "b5c0ff8e",
   "metadata": {
    "execution": {
     "iopub.execute_input": "2023-11-19T16:56:39.552819Z",
     "iopub.status.busy": "2023-11-19T16:56:39.548952Z",
     "iopub.status.idle": "2023-11-19T16:56:39.567798Z",
     "shell.execute_reply": "2023-11-19T16:56:39.567189Z"
    },
    "papermill": {
     "duration": 0.032291,
     "end_time": "2023-11-19T16:56:39.569682",
     "exception": false,
     "start_time": "2023-11-19T16:56:39.537391",
     "status": "completed"
    },
    "tags": []
   },
   "outputs": [
    {
     "name": "stdout",
     "output_type": "stream",
     "text": [
      "['bad']\n"
     ]
    }
   ],
   "source": [
    "new_urls = ['norell.ty']\n",
    "features = [extract_features(url) for url in new_urls]\n",
    "url_df = pd.DataFrame(features)\n",
    "print(forest.predict(url_df))"
   ]
  },
  {
   "cell_type": "code",
   "execution_count": 25,
   "id": "50c4db72",
   "metadata": {
    "execution": {
     "iopub.execute_input": "2023-11-19T16:56:39.600811Z",
     "iopub.status.busy": "2023-11-19T16:56:39.599956Z",
     "iopub.status.idle": "2023-11-19T16:56:39.621161Z",
     "shell.execute_reply": "2023-11-19T16:56:39.620030Z"
    },
    "papermill": {
     "duration": 0.039608,
     "end_time": "2023-11-19T16:56:39.623769",
     "exception": false,
     "start_time": "2023-11-19T16:56:39.584161",
     "status": "completed"
    },
    "tags": []
   },
   "outputs": [],
   "source": [
    "import pickle\n",
    "with open('./logistic_regression.h5','wb') as file:\n",
    "    pickle.dump(lre, file)\n",
    "with open('./decision_tree.h5','wb') as file:\n",
    "    pickle.dump(tree, file)\n",
    "with open('./support_vector_machine.h5','wb') as file:\n",
    "    pickle.dump(svm, file)\n",
    "with open('./random_forest.h5','wb') as file:\n",
    "    pickle.dump(forest, file)\n",
    "with open('./mlp.h5','wb') as file:\n",
    "    pickle.dump(mlp, file)"
   ]
  }
 ],
 "metadata": {
  "kaggle": {
   "accelerator": "none",
   "dataSources": [
    {
     "datasetId": 791543,
     "sourceId": 1359146,
     "sourceType": "datasetVersion"
    }
   ],
   "dockerImageVersionId": 30579,
   "isGpuEnabled": false,
   "isInternetEnabled": true,
   "language": "python",
   "sourceType": "notebook"
  },
  "kernelspec": {
   "display_name": "Python 3",
   "language": "python",
   "name": "python3"
  },
  "language_info": {
   "codemirror_mode": {
    "name": "ipython",
    "version": 3
   },
   "file_extension": ".py",
   "mimetype": "text/x-python",
   "name": "python",
   "nbconvert_exporter": "python",
   "pygments_lexer": "ipython3",
   "version": "3.10.12"
  },
  "papermill": {
   "default_parameters": {},
   "duration": 358.677083,
   "end_time": "2023-11-19T16:56:40.155954",
   "environment_variables": {},
   "exception": null,
   "input_path": "__notebook__.ipynb",
   "output_path": "__notebook__.ipynb",
   "parameters": {},
   "start_time": "2023-11-19T16:50:41.478871",
   "version": "2.4.0"
  }
 },
 "nbformat": 4,
 "nbformat_minor": 5
}
